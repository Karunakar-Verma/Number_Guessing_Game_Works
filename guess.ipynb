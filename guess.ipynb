{
 "cells": [
  {
   "cell_type": "code",
   "execution_count": 1,
   "id": "3feedd51-4302-47f1-a797-58083ace76b1",
   "metadata": {},
   "outputs": [
    {
     "name": "stdin",
     "output_type": "stream",
     "text": [
      "Enter any number:  50\n"
     ]
    }
   ],
   "source": [
    "# to import random module\n",
    "import random\n",
    "# to create a range of random numbers between 1-10\n",
    "n = random.randrange(1,100)\n",
    "# to take a user input to enter a number\n",
    "guess = int(input(\"Enter any number: \"))\n"
   ]
  },
  {
   "cell_type": "code",
   "execution_count": null,
   "id": "0535d06d-d3d9-497f-a4ad-1c772f0c75ac",
   "metadata": {},
   "outputs": [
    {
     "name": "stdout",
     "output_type": "stream",
     "text": [
      "Too low\n"
     ]
    },
    {
     "name": "stdin",
     "output_type": "stream",
     "text": [
      "Enter number again:  49\n"
     ]
    },
    {
     "name": "stdout",
     "output_type": "stream",
     "text": [
      "you guessed it right!!\n",
      "Too low\n"
     ]
    },
    {
     "name": "stdin",
     "output_type": "stream",
     "text": [
      "Enter number again:  500\n"
     ]
    },
    {
     "name": "stdout",
     "output_type": "stream",
     "text": [
      "you guessed it right!!\n",
      "Too high!\n"
     ]
    },
    {
     "name": "stdin",
     "output_type": "stream",
     "text": [
      "Enter number again:  50\n"
     ]
    },
    {
     "name": "stdout",
     "output_type": "stream",
     "text": [
      "you guessed it right!!\n",
      "Too low\n"
     ]
    }
   ],
   "source": [
    "while n!= guess: # means if n is not equal to the input guess\n",
    "    # if guess is smaller than n\n",
    "    if guess < n:\n",
    "        print(\"Too low\")\n",
    "\n",
    "        # to again ask for input\n",
    "        guess = int(input(\"Enter number again: \"))\n",
    "    # if guess is greater than n\n",
    "    elif guess > n:\n",
    "        print(\"Too high!\")\n",
    "        # to again ask for the user input\n",
    "        guess = int(input(\"Enter number again: \"))\n",
    "    # if guess gets equals to n terminate the while loop\n",
    "    else:\n",
    "        break\n",
    "    print(\"you guessed it right!!\")\n",
    "\n"
   ]
  },
  {
   "cell_type": "code",
   "execution_count": null,
   "id": "4272a3dc-8f67-42bc-bf2b-97501a089184",
   "metadata": {},
   "outputs": [],
   "source": []
  },
  {
   "cell_type": "code",
   "execution_count": null,
   "id": "73f249be-e8b0-40cb-a736-a3685d20b094",
   "metadata": {},
   "outputs": [],
   "source": []
  }
 ],
 "metadata": {
  "kernelspec": {
   "display_name": "Python 3 (ipykernel)",
   "language": "python",
   "name": "python3"
  },
  "language_info": {
   "codemirror_mode": {
    "name": "ipython",
    "version": 3
   },
   "file_extension": ".py",
   "mimetype": "text/x-python",
   "name": "python",
   "nbconvert_exporter": "python",
   "pygments_lexer": "ipython3",
   "version": "3.11.7"
  }
 },
 "nbformat": 4,
 "nbformat_minor": 5
}
